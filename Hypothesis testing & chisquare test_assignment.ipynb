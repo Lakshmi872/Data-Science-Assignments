{
 "cells": [
  {
   "cell_type": "code",
   "execution_count": 2,
   "id": "01811ea3-8579-421a-b155-255cd536551d",
   "metadata": {},
   "outputs": [],
   "source": [
    "import numpy as np\n",
    "from scipy import stats"
   ]
  },
  {
   "cell_type": "code",
   "execution_count": 3,
   "id": "7a84ccf8-e8a8-4b46-aaa1-18f69b11a5c0",
   "metadata": {},
   "outputs": [],
   "source": [
    "# Given :- Sample size = 25 , sample mean = 3050 , population mean = 600 , population std_dev = 25\n",
    "# Bombay hospitality Ltd. operated for exotic Norwegian dinners , and its franchise is all over New England\n",
    "# W :- Week "
   ]
  },
  {
   "cell_type": "code",
   "execution_count": 4,
   "id": "d29254cb-d8bc-4303-be86-2659b4c29bbc",
   "metadata": {},
   "outputs": [],
   "source": [
    "# 1.State the Hypotheses statement:-\n",
    "#W = 1000 + 5X(x is no. units produced in a week)\n",
    "\n",
    "#W = 1000 + 5*600\n",
    "\n",
    "#W = 4000\n",
    "\n",
    "#Null Hypothesis :- μ = 4000 , accurately predicts the weekly operating cost.\n",
    "\n",
    "#Alternative Hypothesis :- μ != 4000 , this cost model may no longer be accurate, as their observed weekly operating costs are higher."
   ]
  },
  {
   "cell_type": "code",
   "execution_count": 4,
   "id": "f9c0a552-b386-4c0a-869c-fc7831e1e5ed",
   "metadata": {},
   "outputs": [],
   "source": [
    "# 2.Calculate the Test Statistic:-\n",
    "\n",
    "#As(=,!=) So it is 1 Sample 2 Tail Test and population standard deviation is given (Sigma=25). so we are going to perform Z-distribution\n",
    "\n",
    "#Formula for Z-distribution :- z = (x̄ - μ) / (σ / √n)\n",
    "\n",
    "#x̄ is the sample mean\n",
    "\n",
    "#μ is the population mean under the null hypothesis\n",
    "\n",
    "#σ is the population standard deviation  \n",
    "\n",
    "#n is the sample size\n",
    "\n",
    "#x̄ = 3050 , μ = 4000 , σ = 125 , n = 25"
   ]
  },
  {
   "cell_type": "code",
   "execution_count": 5,
   "id": "7f023327-f16b-4610-8ce3-07d10e2f08c5",
   "metadata": {},
   "outputs": [
    {
     "data": {
      "text/plain": [
       "np.float64(-38.0)"
      ]
     },
     "execution_count": 5,
     "metadata": {},
     "output_type": "execute_result"
    }
   ],
   "source": [
    "z=(3050-4000) / (125/np.sqrt(25))\n",
    "z"
   ]
  },
  {
   "cell_type": "code",
   "execution_count": 6,
   "id": "366f0a21-65c1-446c-b96c-3b7d52abea08",
   "metadata": {},
   "outputs": [],
   "source": [
    "#calculated the Z-value=-3.8"
   ]
  },
  {
   "cell_type": "code",
   "execution_count": 7,
   "id": "e8af8bf9-2a86-4bfb-b92f-2ffa2cdddabc",
   "metadata": {},
   "outputs": [],
   "source": [
    "#3. Determine the Critical Value:-"
   ]
  },
  {
   "cell_type": "code",
   "execution_count": 6,
   "id": "37a1936f-10f2-4f50-b984-8870e9c71d1a",
   "metadata": {},
   "outputs": [],
   "source": [
    "alpha=0.05"
   ]
  },
  {
   "cell_type": "code",
   "execution_count": 7,
   "id": "f7e0f336-5f48-45c8-a130-768741da5057",
   "metadata": {},
   "outputs": [
    {
     "data": {
      "text/plain": [
       "np.float64(1.959963984540054)"
      ]
     },
     "execution_count": 7,
     "metadata": {},
     "output_type": "execute_result"
    }
   ],
   "source": [
    "critical_value = stats.norm.ppf(1-alpha/2)\n",
    "critical_value"
   ]
  },
  {
   "cell_type": "code",
   "execution_count": 10,
   "id": "0b31c906-7f00-4f55-8300-c8820d71487d",
   "metadata": {},
   "outputs": [],
   "source": [
    "#so the z value is -3.8 , but it is 2 tail test , therefore both the tails have to be calculated \n",
    "#i.e(below -3.8 and above 3.8)\n",
    "\n",
    "#now let 1 tail below -3.8 = p1 and 2nd tail above 3.8 = p2 ,\n",
    "\n",
    "#so total probability P=p1+p2 ,\n",
    "\n",
    "#as both the end tails are same , therefore p1=p2, so it can also be P = 2*p1 ."
   ]
  },
  {
   "cell_type": "code",
   "execution_count": 8,
   "id": "e9614c1d-de8c-4c0b-8114-28368ad32a63",
   "metadata": {},
   "outputs": [
    {
     "data": {
      "text/plain": [
       "np.float64(7.234804392511998e-05)"
      ]
     },
     "execution_count": 8,
     "metadata": {},
     "output_type": "execute_result"
    }
   ],
   "source": [
    "p1= stats.norm.cdf(-3.8)\n",
    "p1"
   ]
  },
  {
   "cell_type": "code",
   "execution_count": 9,
   "id": "22024c3a-d98c-4dcb-96c3-724ba6409ec3",
   "metadata": {},
   "outputs": [
    {
     "data": {
      "text/plain": [
       "np.float64(0.00014469608785023995)"
      ]
     },
     "execution_count": 9,
     "metadata": {},
     "output_type": "execute_result"
    }
   ],
   "source": [
    "p=p1*2\n",
    "p"
   ]
  },
  {
   "cell_type": "code",
   "execution_count": 13,
   "id": "43e51a72-87c2-4c32-bc43-2b59d15444dd",
   "metadata": {},
   "outputs": [],
   "source": [
    "# 4.Make a Decision:-\n",
    "\n",
    "#IF P > 0.05 = Accept null hypothesis , reject alternate hypothesis\n",
    "\n",
    "#IF P < 0.05 = Accept alternate hypothesis , reject null hypothesis\n",
    "\n",
    "#Therefore 0.0001 < 0.05\n",
    "\n",
    "#P < α = Accept alternate hypothesis , reject null hypothesis"
   ]
  },
  {
   "cell_type": "code",
   "execution_count": 10,
   "id": "7a0966f7-180a-49d6-b04f-643eafa27654",
   "metadata": {},
   "outputs": [
    {
     "data": {
      "text/plain": [
       "np.float64(3.073118109106916e-229)"
      ]
     },
     "execution_count": 10,
     "metadata": {},
     "output_type": "execute_result"
    }
   ],
   "source": [
    "stats.norm.cdf(-38,4000,125)"
   ]
  },
  {
   "cell_type": "code",
   "execution_count": 1,
   "id": "96c5c05b-6ad6-4b30-80b2-d74b8e902cc5",
   "metadata": {},
   "outputs": [],
   "source": [
    "#3.073118109106916e-229 = 0\n",
    "\n",
    "#therefore 0% wrong if reject the null hypothesis\n",
    "\n",
    "#Conclusion:- There is strong evidence to suggest that the actual mean weekly operating cost is \n",
    "#significantly higher than the cost predicted by the theoretical model. \n",
    "#The restaurant owners' concerns are justified, and the company should investigate\n",
    "#the reasons for the increased costs and consider revising the cost model."
   ]
  },
  {
   "cell_type": "code",
   "execution_count": null,
   "id": "703d3084-58c5-4670-99e1-efd98a33a31c",
   "metadata": {},
   "outputs": [],
   "source": []
  },
  {
   "cell_type": "code",
   "execution_count": null,
   "id": "c3216957-a494-454c-adbe-1841bc04af47",
   "metadata": {},
   "outputs": [],
   "source": []
  },
  {
   "cell_type": "code",
   "execution_count": 11,
   "id": "67c35124-0c58-402e-80b2-6045f12edd4e",
   "metadata": {},
   "outputs": [],
   "source": [
    "#ChiSquare Test"
   ]
  },
  {
   "cell_type": "code",
   "execution_count": 12,
   "id": "ecb292f6-6422-4635-857f-881a7045c9df",
   "metadata": {},
   "outputs": [],
   "source": [
    "from scipy.stats import chi2_contingency\n",
    "import pandas as pd\n",
    "from matplotlib import pyplot as plt\n",
    "from scipy import stats"
   ]
  },
  {
   "cell_type": "code",
   "execution_count": 13,
   "id": "bcc42f55-02ed-4bc6-b670-47bf5af09021",
   "metadata": {},
   "outputs": [],
   "source": [
    "# 1.State the Hypotheses:-\n",
    "\n",
    "#Null Hypothesis (H₀): There is no association between the type of smart home device purchased and customer satisfaction level.\n",
    "\n",
    "#Alternative Hypothesis (H₁): There is an association between the type of smart home device purchased and customer satisfaction level."
   ]
  },
  {
   "cell_type": "code",
   "execution_count": 14,
   "id": "9bd8aa0d-b941-4c5e-831b-96b2a84cfaa3",
   "metadata": {},
   "outputs": [],
   "source": [
    "# 2.Compute the Chi-Square Statistic :-"
   ]
  },
  {
   "cell_type": "code",
   "execution_count": 15,
   "id": "69cb35ec-83b8-4075-b47c-0e3ef1d6afa4",
   "metadata": {},
   "outputs": [],
   "source": [
    "data =[[50,70],\n",
    "        [80,100],\n",
    "        [60,90],\n",
    "        [30,50],\n",
    "        [20,50]]"
   ]
  },
  {
   "cell_type": "code",
   "execution_count": 16,
   "id": "b79c6d6b-956a-452a-a881-f6867c24058c",
   "metadata": {},
   "outputs": [],
   "source": [
    "df = pd.DataFrame(data,index=['Very Satisfied','Satisfied','Neutral','Unsatisfied','Very Unsatisfied'],\n",
    "               columns=['Smart Thermostat','Smart Light'])"
   ]
  },
  {
   "cell_type": "code",
   "execution_count": 17,
   "id": "013ea014-097c-4310-8ad1-1ad469a34118",
   "metadata": {},
   "outputs": [
    {
     "data": {
      "text/html": [
       "<div>\n",
       "<style scoped>\n",
       "    .dataframe tbody tr th:only-of-type {\n",
       "        vertical-align: middle;\n",
       "    }\n",
       "\n",
       "    .dataframe tbody tr th {\n",
       "        vertical-align: top;\n",
       "    }\n",
       "\n",
       "    .dataframe thead th {\n",
       "        text-align: right;\n",
       "    }\n",
       "</style>\n",
       "<table border=\"1\" class=\"dataframe\">\n",
       "  <thead>\n",
       "    <tr style=\"text-align: right;\">\n",
       "      <th></th>\n",
       "      <th>Smart Thermostat</th>\n",
       "      <th>Smart Light</th>\n",
       "    </tr>\n",
       "  </thead>\n",
       "  <tbody>\n",
       "    <tr>\n",
       "      <th>Very Satisfied</th>\n",
       "      <td>50</td>\n",
       "      <td>70</td>\n",
       "    </tr>\n",
       "    <tr>\n",
       "      <th>Satisfied</th>\n",
       "      <td>80</td>\n",
       "      <td>100</td>\n",
       "    </tr>\n",
       "    <tr>\n",
       "      <th>Neutral</th>\n",
       "      <td>60</td>\n",
       "      <td>90</td>\n",
       "    </tr>\n",
       "    <tr>\n",
       "      <th>Unsatisfied</th>\n",
       "      <td>30</td>\n",
       "      <td>50</td>\n",
       "    </tr>\n",
       "    <tr>\n",
       "      <th>Very Unsatisfied</th>\n",
       "      <td>20</td>\n",
       "      <td>50</td>\n",
       "    </tr>\n",
       "  </tbody>\n",
       "</table>\n",
       "</div>"
      ],
      "text/plain": [
       "                  Smart Thermostat  Smart Light\n",
       "Very Satisfied                  50           70\n",
       "Satisfied                       80          100\n",
       "Neutral                         60           90\n",
       "Unsatisfied                     30           50\n",
       "Very Unsatisfied                20           50"
      ]
     },
     "execution_count": 17,
     "metadata": {},
     "output_type": "execute_result"
    }
   ],
   "source": [
    "df"
   ]
  },
  {
   "cell_type": "code",
   "execution_count": 18,
   "id": "ce7a8946-75e0-463c-94af-4d95a6c55fa0",
   "metadata": {},
   "outputs": [
    {
     "data": {
      "text/plain": [
       "<Axes: >"
      ]
     },
     "execution_count": 18,
     "metadata": {},
     "output_type": "execute_result"
    },
    {
     "data": {
      "image/png": "[encoded data removed]",
      "text/plain": [
       "<Figure size 640x480 with 1 Axes>"
      ]
     },
     "metadata": {},
     "output_type": "display_data"
    }
   ],
   "source": [
    "df.plot(kind='bar')"
   ]
  },
  {
   "cell_type": "code",
   "execution_count": 19,
   "id": "c10c51b1-e8d4-4d35-aef3-955f8fc52d48",
   "metadata": {},
   "outputs": [
    {
     "data": {
      "text/plain": [
       "Chi2ContingencyResult(statistic=np.float64(5.638227513227513), pvalue=np.float64(0.22784371130697179), dof=4, expected_freq=array([[ 48.,  72.],\n",
       "       [ 72., 108.],\n",
       "       [ 60.,  90.],\n",
       "       [ 32.,  48.],\n",
       "       [ 28.,  42.]]))"
      ]
     },
     "execution_count": 19,
     "metadata": {},
     "output_type": "execute_result"
    }
   ],
   "source": [
    "chi2_contingency(data)"
   ]
  },
  {
   "cell_type": "code",
   "execution_count": 20,
   "id": "2f1f90c3-f2bf-4af5-a194-e484f5e1f34d",
   "metadata": {},
   "outputs": [],
   "source": [
    "chi2, p, dof, exp=chi2_contingency(data)"
   ]
  },
  {
   "cell_type": "code",
   "execution_count": 21,
   "id": "a6cf7e33-65ba-4e01-b108-8889905036a9",
   "metadata": {},
   "outputs": [
    {
     "data": {
      "text/plain": [
       "np.float64(5.638227513227513)"
      ]
     },
     "execution_count": 21,
     "metadata": {},
     "output_type": "execute_result"
    }
   ],
   "source": [
    "chi2"
   ]
  },
  {
   "cell_type": "code",
   "execution_count": 22,
   "id": "08866922-b67e-4533-9688-05f018ac6f0a",
   "metadata": {},
   "outputs": [
    {
     "data": {
      "text/plain": [
       "np.float64(0.22784371130697179)"
      ]
     },
     "execution_count": 22,
     "metadata": {},
     "output_type": "execute_result"
    }
   ],
   "source": [
    "p"
   ]
  },
  {
   "cell_type": "code",
   "execution_count": 23,
   "id": "1bfecf2d-9d4c-4828-be50-599369d08742",
   "metadata": {},
   "outputs": [
    {
     "data": {
      "text/plain": [
       "4"
      ]
     },
     "execution_count": 23,
     "metadata": {},
     "output_type": "execute_result"
    }
   ],
   "source": [
    "dof"
   ]
  },
  {
   "cell_type": "code",
   "execution_count": 24,
   "id": "62708fdd-efe0-42ac-b8b1-e794ffb21e9a",
   "metadata": {},
   "outputs": [
    {
     "data": {
      "text/plain": [
       "array([[ 48.,  72.],\n",
       "       [ 72., 108.],\n",
       "       [ 60.,  90.],\n",
       "       [ 32.,  48.],\n",
       "       [ 28.,  42.]])"
      ]
     },
     "execution_count": 24,
     "metadata": {},
     "output_type": "execute_result"
    }
   ],
   "source": [
    "exp"
   ]
  },
  {
   "cell_type": "code",
   "execution_count": 25,
   "id": "2ed4811d-6062-4ec7-83bb-363916d92186",
   "metadata": {},
   "outputs": [],
   "source": [
    "#Determine the Critical Value:\n",
    "\n",
    "#Degrees of Freedom (df): (Number of rows - 1) * (Number of columns - 1) = (5-1) * (2-1) = 4"
   ]
  },
  {
   "cell_type": "code",
   "execution_count": 26,
   "id": "71c1c7a1-80ab-40c3-b49f-7984a821e29a",
   "metadata": {},
   "outputs": [],
   "source": [
    "alpha = 0.05"
   ]
  },
  {
   "cell_type": "code",
   "execution_count": 27,
   "id": "3f3f3941-827d-4daf-bfc6-08c9747a4fc2",
   "metadata": {},
   "outputs": [
    {
     "data": {
      "text/plain": [
       "np.float64(9.487729036781154)"
      ]
     },
     "execution_count": 27,
     "metadata": {},
     "output_type": "execute_result"
    }
   ],
   "source": [
    "critical_value = stats.chi2.ppf(1-alpha , df=4)\n",
    "critical_value"
   ]
  },
  {
   "cell_type": "code",
   "execution_count": 28,
   "id": "8c67aa6e-3ddd-46ee-aa17-1ba91a55eb8e",
   "metadata": {},
   "outputs": [],
   "source": [
    "#Make a Decision:-\n",
    "\n",
    "#if p < alpha = Reject the null hypothesis\n",
    "\n",
    "#if p > alpha = Accept the null hypothesis"
   ]
  },
  {
   "cell_type": "code",
   "execution_count": 29,
   "id": "1b2e3426-34fd-4801-9c84-46161f49c28d",
   "metadata": {},
   "outputs": [
    {
     "name": "stdout",
     "output_type": "stream",
     "text": [
      "[Accept the null hypothesis: As there is no significant association between device type and customer satisfaction\n"
     ]
    }
   ],
   "source": [
    "if chi2 > critical_value or p < alpha:\n",
    "    print('Reject the null hypothesis: As there is a significant association between device type and customer stisfaction.')\n",
    "else:\n",
    "    print('[Accept the null hypothesis: As there is no significant association between device type and customer satisfaction')"
   ]
  },
  {
   "cell_type": "code",
   "execution_count": null,
   "id": "f2964f0c-face-4c8f-8a85-37fbf3c7bf6f",
   "metadata": {},
   "outputs": [],
   "source": []
  }
 ],
 "metadata": {
  "kernelspec": {
   "display_name": "Python 3 (ipykernel)",
   "language": "python",
   "name": "python3"
  },
  "language_info": {
   "codemirror_mode": {
    "name": "ipython",
    "version": 3
   },
   "file_extension": ".py",
   "mimetype": "text/x-python",
   "name": "python",
   "nbconvert_exporter": "python",
   "pygments_lexer": "ipython3",
   "version": "3.13.5"
  }
 },
 "nbformat": 4,
 "nbformat_minor": 5
}
