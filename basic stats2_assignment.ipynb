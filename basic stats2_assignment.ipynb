{
 "cells": [
  {
   "cell_type": "code",
   "execution_count": 1,
   "id": "7d1385ee-4fac-441f-9061-681c687412c8",
   "metadata": {},
   "outputs": [],
   "source": [
    "from scipy import stats\n",
    "import pandas as pd\n",
    "import numpy as np"
   ]
  },
  {
   "cell_type": "code",
   "execution_count": 2,
   "id": "156edb69-b74c-4d7f-8b68-7d8736fbe17d",
   "metadata": {},
   "outputs": [],
   "source": [
    "#Data\n",
    "\n",
    "#A total of 15 print-heads were randomly selected and tested until failure.\n",
    "\n",
    "#he durability of each print-head (in millions of characters) was recorded as follows:\n",
    "\n",
    "# 1.13, 1.55, 1.43, 0.92, 1.25, 1.36, 1.32, 0.85, 1.07, 1.48, 1.20, 1.33, 1.18, 1.22, 1.29\n"
   ]
  },
  {
   "cell_type": "code",
   "execution_count": 2,
   "id": "e07b3d10-e387-4e5b-824d-33d28e3ba55c",
   "metadata": {},
   "outputs": [
    {
     "data": {
      "text/plain": [
       "[1.13,\n",
       " 1.55,\n",
       " 1.43,\n",
       " 0.92,\n",
       " 1.25,\n",
       " 1.36,\n",
       " 1.32,\n",
       " 0.85,\n",
       " 1.07,\n",
       " 1.48,\n",
       " 1.2,\n",
       " 1.33,\n",
       " 1.18,\n",
       " 1.22,\n",
       " 1.29]"
      ]
     },
     "execution_count": 2,
     "metadata": {},
     "output_type": "execute_result"
    }
   ],
   "source": [
    "sample =[1.13, 1.55, 1.43, 0.92, 1.25, 1.36, 1.32, 0.85, 1.07, 1.48, 1.20, 1.33, 1.18, 1.22, 1.29]\n",
    "sample"
   ]
  },
  {
   "cell_type": "code",
   "execution_count": 3,
   "id": "7802ca2a-90ee-406f-bcfc-2f2f95b43bd1",
   "metadata": {},
   "outputs": [
    {
     "data": {
      "text/html": [
       "<div>\n",
       "<style scoped>\n",
       "    .dataframe tbody tr th:only-of-type {\n",
       "        vertical-align: middle;\n",
       "    }\n",
       "\n",
       "    .dataframe tbody tr th {\n",
       "        vertical-align: top;\n",
       "    }\n",
       "\n",
       "    .dataframe thead th {\n",
       "        text-align: right;\n",
       "    }\n",
       "</style>\n",
       "<table border=\"1\" class=\"dataframe\">\n",
       "  <thead>\n",
       "    <tr style=\"text-align: right;\">\n",
       "      <th></th>\n",
       "      <th>print_heads</th>\n",
       "    </tr>\n",
       "  </thead>\n",
       "  <tbody>\n",
       "    <tr>\n",
       "      <th>0</th>\n",
       "      <td>1.13</td>\n",
       "    </tr>\n",
       "    <tr>\n",
       "      <th>1</th>\n",
       "      <td>1.55</td>\n",
       "    </tr>\n",
       "    <tr>\n",
       "      <th>2</th>\n",
       "      <td>1.43</td>\n",
       "    </tr>\n",
       "    <tr>\n",
       "      <th>3</th>\n",
       "      <td>0.92</td>\n",
       "    </tr>\n",
       "    <tr>\n",
       "      <th>4</th>\n",
       "      <td>1.25</td>\n",
       "    </tr>\n",
       "    <tr>\n",
       "      <th>5</th>\n",
       "      <td>1.36</td>\n",
       "    </tr>\n",
       "    <tr>\n",
       "      <th>6</th>\n",
       "      <td>1.32</td>\n",
       "    </tr>\n",
       "    <tr>\n",
       "      <th>7</th>\n",
       "      <td>0.85</td>\n",
       "    </tr>\n",
       "    <tr>\n",
       "      <th>8</th>\n",
       "      <td>1.07</td>\n",
       "    </tr>\n",
       "    <tr>\n",
       "      <th>9</th>\n",
       "      <td>1.48</td>\n",
       "    </tr>\n",
       "    <tr>\n",
       "      <th>10</th>\n",
       "      <td>1.20</td>\n",
       "    </tr>\n",
       "    <tr>\n",
       "      <th>11</th>\n",
       "      <td>1.33</td>\n",
       "    </tr>\n",
       "    <tr>\n",
       "      <th>12</th>\n",
       "      <td>1.18</td>\n",
       "    </tr>\n",
       "    <tr>\n",
       "      <th>13</th>\n",
       "      <td>1.22</td>\n",
       "    </tr>\n",
       "    <tr>\n",
       "      <th>14</th>\n",
       "      <td>1.29</td>\n",
       "    </tr>\n",
       "  </tbody>\n",
       "</table>\n",
       "</div>"
      ],
      "text/plain": [
       "    print_heads\n",
       "0          1.13\n",
       "1          1.55\n",
       "2          1.43\n",
       "3          0.92\n",
       "4          1.25\n",
       "5          1.36\n",
       "6          1.32\n",
       "7          0.85\n",
       "8          1.07\n",
       "9          1.48\n",
       "10         1.20\n",
       "11         1.33\n",
       "12         1.18\n",
       "13         1.22\n",
       "14         1.29"
      ]
     },
     "execution_count": 3,
     "metadata": {},
     "output_type": "execute_result"
    }
   ],
   "source": [
    "frame = pd.DataFrame(sample, columns=['print_heads'])\n",
    "frame"
   ]
  },
  {
   "cell_type": "code",
   "execution_count": 4,
   "id": "4e80a6c9-d9e1-458a-9846-734d027094f7",
   "metadata": {},
   "outputs": [
    {
     "data": {
      "text/plain": [
       "15"
      ]
     },
     "execution_count": 4,
     "metadata": {},
     "output_type": "execute_result"
    }
   ],
   "source": [
    "len(sample)"
   ]
  },
  {
   "cell_type": "code",
   "execution_count": 6,
   "id": "64ca71e2-f1ae-4cff-a214-f7c77a16e522",
   "metadata": {},
   "outputs": [],
   "source": [
    "#inferential stats is used to give a range of mean probability value for a given sample to estimate \n",
    "#population parameters with some confidence interval .\n",
    "\n",
    "#It includes 2 methods:-\n",
    "\n",
    "# 1 :- if sigma (population standard deviation) is known and sample size is large thn by using confidence interval , mean and std dev\n",
    "#scipy.stats.norm.interval(confidence level, loc=0, scale=1)\n",
    "#from Scientific Python library , import the statistics module , normal distribution object for interval \n",
    "#It is called as Z-Distribution / Z-score / Standardization\n",
    "\n",
    "# 2:- if sigma(population standard deviation) is unknown and sample size is small...\n",
    "#thn we use sample standard deviation (S).....by using confidence interval , degrees of freedom , mean and std dev\n",
    "#scipy.stats.t.interval(confidence level,dof,loc=0,scale=1)\n",
    "#from Scientific Python library , import the statistics module , t-distribution object for interval\n",
    "#The t-distribution is used in statistics to estimate population parameters when the sample size is small and/or the population standard deviation is unknown\n"
   ]
  },
  {
   "cell_type": "code",
   "execution_count": 7,
   "id": "12d0fbde-91e4-4e65-ba1d-dd0f88f88fd8",
   "metadata": {},
   "outputs": [],
   "source": [
    "#Both the Z-score and T-score are used to determine the position of a sample mean in relation to the population mean\n",
    "\n",
    "#a. Build 99% Confidence Interval Using Sample Standard Deviation"
   ]
  },
  {
   "cell_type": "code",
   "execution_count": 8,
   "id": "9f5dacbf-e4b4-420d-835c-43f8b0672e94",
   "metadata": {},
   "outputs": [
    {
     "name": "stdout",
     "output_type": "stream",
     "text": [
      "(np.float64(0.6636474310163384), np.float64(1.813685902316995))\n",
      "mean at 99% confidence interval is  [0.6636 1.8137]\n"
     ]
    }
   ],
   "source": [
    "print_t = stats.t.interval(0.99,14,loc = frame.print_heads.mean(), scale = frame.print_heads.std()) # 0.99=confidence interval,14=degrees of freedom(n-1)\n",
    "print(print_t)\n",
    "print('mean at 99% confidence interval is ',np.round(print_t,4))  # here we round off upto 4 decimal points"
   ]
  },
  {
   "cell_type": "code",
   "execution_count": 9,
   "id": "1471f2e8-e7c5-47ad-9fbd-657412ce2729",
   "metadata": {},
   "outputs": [
    {
     "data": {
      "text/plain": [
       "np.float64(1.2386666666666666)"
      ]
     },
     "execution_count": 9,
     "metadata": {},
     "output_type": "execute_result"
    }
   ],
   "source": [
    "frame.print_heads.mean()"
   ]
  },
  {
   "cell_type": "code",
   "execution_count": 10,
   "id": "d286d63b-9191-4b3b-9a10-fdf08dd57954",
   "metadata": {},
   "outputs": [
    {
     "data": {
      "text/plain": [
       "0.19316412956959936"
      ]
     },
     "execution_count": 10,
     "metadata": {},
     "output_type": "execute_result"
    }
   ],
   "source": [
    "frame.print_heads.std()"
   ]
  },
  {
   "cell_type": "code",
   "execution_count": 11,
   "id": "e0d9fdde-d1a4-4361-9bd1-1b9809cfad2b",
   "metadata": {},
   "outputs": [
    {
     "data": {
      "text/plain": [
       "np.float64(2.976842734370834)"
      ]
     },
     "execution_count": 11,
     "metadata": {},
     "output_type": "execute_result"
    }
   ],
   "source": [
    "#Find confidence interval using t distribution\n",
    "stats.t.ppf(0.995,14)  # t value for 99% confidence interval :- 0.5% tail region = 99%+0.5% = 99.5% = 0.995"
   ]
  },
  {
   "cell_type": "code",
   "execution_count": 5,
   "id": "056ed737-67b4-4eba-91dd-12f1f7f5aeba",
   "metadata": {},
   "outputs": [],
   "source": [
    "# 99% confidence interval :- 0.99 , 14:- degrees of freedom , loc- mean , scale- std deviation"
   ]
  },
  {
   "cell_type": "code",
   "execution_count": null,
   "id": "3482c9a4-19ec-4cea-9f67-8915ad03d471",
   "metadata": {},
   "outputs": [],
   "source": []
  },
  {
   "cell_type": "code",
   "execution_count": null,
   "id": "3a5ec6f2-4c7a-4aac-938d-3d47bb1900c0",
   "metadata": {},
   "outputs": [],
   "source": []
  },
  {
   "cell_type": "code",
   "execution_count": 13,
   "id": "02946f5e-4a1e-4306-91a2-35890c60c267",
   "metadata": {},
   "outputs": [
    {
     "name": "stdout",
     "output_type": "stream",
     "text": [
      "(np.float64(0.7411088413267759), np.float64(1.7362244920065573))\n",
      "Mean at 99% confidence interval is [0.7411 1.7362]\n"
     ]
    }
   ],
   "source": [
    "#b. Build 99% Confidence Interval Using Known Population Standard Deviation\n",
    "\n",
    "print_z = stats.norm.interval(0.99, loc = frame.print_heads.mean(), scale= frame.print_heads.std())\n",
    "print(print_z)\n",
    "print('Mean at 99% confidence interval is',np.round(print_z , 4))\n",
    "\n"
   ]
  },
  {
   "cell_type": "code",
   "execution_count": 14,
   "id": "27df7b02-7ec4-4a57-8db1-f24a72245135",
   "metadata": {},
   "outputs": [
    {
     "name": "stdout",
     "output_type": "stream",
     "text": [
      "(np.float64(0.7235008059568865), np.float64(1.7538325273764466))\n"
     ]
    }
   ],
   "source": [
    "# Given :- sigma (population standard deviation) :- 0.2\n",
    "\n",
    "print_z_s = stats.norm.interval(0.99, loc = frame.print_heads.mean(), scale=0.2)\n",
    "print(print_z_s)"
   ]
  },
  {
   "cell_type": "code",
   "execution_count": null,
   "id": "d288a1f6-38c9-4bd7-a88e-4b06039b868e",
   "metadata": {},
   "outputs": [],
   "source": []
  }
 ],
 "metadata": {
  "kernelspec": {
   "display_name": "Python 3 (ipykernel)",
   "language": "python",
   "name": "python3"
  },
  "language_info": {
   "codemirror_mode": {
    "name": "ipython",
    "version": 3
   },
   "file_extension": ".py",
   "mimetype": "text/x-python",
   "name": "python",
   "nbconvert_exporter": "python",
   "pygments_lexer": "ipython3",
   "version": "3.13.5"
  }
 },
 "nbformat": 4,
 "nbformat_minor": 5
}
