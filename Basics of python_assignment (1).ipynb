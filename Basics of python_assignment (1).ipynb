{
 "cells": [
  {
   "cell_type": "code",
   "execution_count": 1,
   "id": "13764fe7-ebe0-4899-bf23-8f3f6ee13cfb",
   "metadata": {},
   "outputs": [],
   "source": [
    "#Exercise 1: Prime Numbers\n",
    "\n",
    "#write a python program that checks whether a given number is prime or not.\n",
    "#A prime number is a natural number greater than 1 that has no positive divisors other than 1 & itself. \n",
    "#import numpy as np"
   ]
  },
  {
   "cell_type": "code",
   "execution_count": 3,
   "id": "4e5e9957-e85d-4d68-b987-c080b24b4ecb",
   "metadata": {},
   "outputs": [
    {
     "name": "stdin",
     "output_type": "stream",
     "text": [
      "enter a number 7\n"
     ]
    },
    {
     "name": "stdout",
     "output_type": "stream",
     "text": [
      "number is a prime number\n"
     ]
    }
   ],
   "source": [
    "num=int(input(\"enter a number\"));\n",
    "for i in range(2,num):\n",
    "    if num % i==0:\n",
    "        print(\"number is not a prime number\")\n",
    "        break\n",
    "    else:\n",
    "        print(\"number is a prime number\")\n",
    "        break"
   ]
  },
  {
   "cell_type": "code",
   "execution_count": null,
   "id": "7736e489-e5f6-4675-8872-bddab6113818",
   "metadata": {},
   "outputs": [],
   "source": [
    "#Exercise 2: Product of Random Numbers\n",
    "\n",
    "#Develop a Python program that generates two random numbers and asks the user to enter the product of these numbers \n",
    "#The program should then check if the user's answer is correct and display an appropriate message. \n",
    "#import random"
   ]
  },
  {
   "cell_type": "code",
   "execution_count": 4,
   "id": "7b961359-1855-490a-8e20-fea936e5e141",
   "metadata": {},
   "outputs": [],
   "source": [
    "import random\n",
    "x=random.randint(1,10)\n",
    "y=random.randint(1,10)"
   ]
  },
  {
   "cell_type": "code",
   "execution_count": 5,
   "id": "04b1ae37-ad30-4bb9-80d0-f47101f7d311",
   "metadata": {},
   "outputs": [
    {
     "data": {
      "text/plain": [
       "7"
      ]
     },
     "execution_count": 5,
     "metadata": {},
     "output_type": "execute_result"
    }
   ],
   "source": [
    "x"
   ]
  },
  {
   "cell_type": "code",
   "execution_count": 6,
   "id": "faa2f584-21e8-47cc-9def-441ee7c1c36e",
   "metadata": {},
   "outputs": [
    {
     "data": {
      "text/plain": [
       "8"
      ]
     },
     "execution_count": 6,
     "metadata": {},
     "output_type": "execute_result"
    }
   ],
   "source": [
    "y"
   ]
  },
  {
   "cell_type": "code",
   "execution_count": 8,
   "id": "b793cbc2-f1c9-4346-9162-abba17e64130",
   "metadata": {},
   "outputs": [
    {
     "name": "stdin",
     "output_type": "stream",
     "text": [
      "enter the product of x and y :  56\n"
     ]
    },
    {
     "name": "stdout",
     "output_type": "stream",
     "text": [
      "good job answer is correct\n"
     ]
    }
   ],
   "source": [
    "z = int(input(\"enter the product of x and y : \"));\n",
    "if(z==x*y):\n",
    "    print(\"good job answer is correct\");\n",
    "else:\n",
    "    print(\"please try again\");"
   ]
  },
  {
   "cell_type": "code",
   "execution_count": null,
   "id": "1378bf62-5f01-445e-9f8a-233e491de3fb",
   "metadata": {},
   "outputs": [],
   "source": [
    "#Exercise 3: Squares of Even/Odd Numbers\n",
    "\n",
    "#Create a Python script that prints the squares of all even or odd numbers within the range of 100 to 200. \n",
    "#Choose either even or odd numbers and document your choice in the code."
   ]
  },
  {
   "cell_type": "code",
   "execution_count": 9,
   "id": "b5e4f38e-9a45-4cab-8a3c-40e1a3995898",
   "metadata": {},
   "outputs": [
    {
     "name": "stdout",
     "output_type": "stream",
     "text": [
      "number is even 100 and squre is 10000\n",
      "number is odd 101 and squre is  10201\n",
      "number is even 102 and squre is 10404\n",
      "number is odd 103 and squre is  10609\n",
      "number is even 104 and squre is 10816\n",
      "number is odd 105 and squre is  11025\n",
      "number is even 106 and squre is 11236\n",
      "number is odd 107 and squre is  11449\n",
      "number is even 108 and squre is 11664\n",
      "number is odd 109 and squre is  11881\n",
      "number is even 110 and squre is 12100\n",
      "number is odd 111 and squre is  12321\n",
      "number is even 112 and squre is 12544\n",
      "number is odd 113 and squre is  12769\n",
      "number is even 114 and squre is 12996\n",
      "number is odd 115 and squre is  13225\n",
      "number is even 116 and squre is 13456\n",
      "number is odd 117 and squre is  13689\n",
      "number is even 118 and squre is 13924\n",
      "number is odd 119 and squre is  14161\n",
      "number is even 120 and squre is 14400\n",
      "number is odd 121 and squre is  14641\n",
      "number is even 122 and squre is 14884\n",
      "number is odd 123 and squre is  15129\n",
      "number is even 124 and squre is 15376\n",
      "number is odd 125 and squre is  15625\n",
      "number is even 126 and squre is 15876\n",
      "number is odd 127 and squre is  16129\n",
      "number is even 128 and squre is 16384\n",
      "number is odd 129 and squre is  16641\n",
      "number is even 130 and squre is 16900\n",
      "number is odd 131 and squre is  17161\n",
      "number is even 132 and squre is 17424\n",
      "number is odd 133 and squre is  17689\n",
      "number is even 134 and squre is 17956\n",
      "number is odd 135 and squre is  18225\n",
      "number is even 136 and squre is 18496\n",
      "number is odd 137 and squre is  18769\n",
      "number is even 138 and squre is 19044\n",
      "number is odd 139 and squre is  19321\n",
      "number is even 140 and squre is 19600\n",
      "number is odd 141 and squre is  19881\n",
      "number is even 142 and squre is 20164\n",
      "number is odd 143 and squre is  20449\n",
      "number is even 144 and squre is 20736\n",
      "number is odd 145 and squre is  21025\n",
      "number is even 146 and squre is 21316\n",
      "number is odd 147 and squre is  21609\n",
      "number is even 148 and squre is 21904\n",
      "number is odd 149 and squre is  22201\n",
      "number is even 150 and squre is 22500\n",
      "number is odd 151 and squre is  22801\n",
      "number is even 152 and squre is 23104\n",
      "number is odd 153 and squre is  23409\n",
      "number is even 154 and squre is 23716\n",
      "number is odd 155 and squre is  24025\n",
      "number is even 156 and squre is 24336\n",
      "number is odd 157 and squre is  24649\n",
      "number is even 158 and squre is 24964\n",
      "number is odd 159 and squre is  25281\n",
      "number is even 160 and squre is 25600\n",
      "number is odd 161 and squre is  25921\n",
      "number is even 162 and squre is 26244\n",
      "number is odd 163 and squre is  26569\n",
      "number is even 164 and squre is 26896\n",
      "number is odd 165 and squre is  27225\n",
      "number is even 166 and squre is 27556\n",
      "number is odd 167 and squre is  27889\n",
      "number is even 168 and squre is 28224\n",
      "number is odd 169 and squre is  28561\n",
      "number is even 170 and squre is 28900\n",
      "number is odd 171 and squre is  29241\n",
      "number is even 172 and squre is 29584\n",
      "number is odd 173 and squre is  29929\n",
      "number is even 174 and squre is 30276\n",
      "number is odd 175 and squre is  30625\n",
      "number is even 176 and squre is 30976\n",
      "number is odd 177 and squre is  31329\n",
      "number is even 178 and squre is 31684\n",
      "number is odd 179 and squre is  32041\n",
      "number is even 180 and squre is 32400\n",
      "number is odd 181 and squre is  32761\n",
      "number is even 182 and squre is 33124\n",
      "number is odd 183 and squre is  33489\n",
      "number is even 184 and squre is 33856\n",
      "number is odd 185 and squre is  34225\n",
      "number is even 186 and squre is 34596\n",
      "number is odd 187 and squre is  34969\n",
      "number is even 188 and squre is 35344\n",
      "number is odd 189 and squre is  35721\n",
      "number is even 190 and squre is 36100\n",
      "number is odd 191 and squre is  36481\n",
      "number is even 192 and squre is 36864\n",
      "number is odd 193 and squre is  37249\n",
      "number is even 194 and squre is 37636\n",
      "number is odd 195 and squre is  38025\n",
      "number is even 196 and squre is 38416\n",
      "number is odd 197 and squre is  38809\n",
      "number is even 198 and squre is 39204\n",
      "number is odd 199 and squre is  39601\n",
      "number is even 200 and squre is 40000\n"
     ]
    }
   ],
   "source": [
    "a=100\n",
    "b=200\n",
    "for i in range (a,b+1):\n",
    "    if (i%2==0):\n",
    "        print(\"number is even\",i,\"and squre is\",i*i);\n",
    "    else:\n",
    "        print(\"number is odd\",i,\"and squre is \",i*i);"
   ]
  },
  {
   "cell_type": "code",
   "execution_count": null,
   "id": "1c1be75a-fe17-4e6f-bbf0-4620d71845d3",
   "metadata": {},
   "outputs": [],
   "source": [
    "#Exercise 4:\n",
    "\n",
    "#write a program to count the number of words in a given text. \n",
    "#input_text = \"This is a sample text. \n",
    "#This text will be used to demonstrate the word counter.\""
   ]
  },
  {
   "cell_type": "code",
   "execution_count": 10,
   "id": "bea108bd-70b3-477e-b8a7-e5d53ec7e782",
   "metadata": {},
   "outputs": [
    {
     "name": "stdout",
     "output_type": "stream",
     "text": [
      "'this': 2\n",
      "'is': 1\n",
      "'a': 1\n",
      "'sample': 1\n",
      "'text': 2\n",
      "'will': 1\n",
      "'be': 1\n",
      "'used': 1\n",
      "'to': 1\n",
      "'demonstrate': 1\n",
      "'the': 1\n",
      "'word': 1\n",
      "'counter': 1\n"
     ]
    }
   ],
   "source": [
    "import string\n",
    "input_text = \"This is a sample text. This text will be used to demonstrate the word counter.\"\n",
    "\n",
    "input_text = input_text.lower()\n",
    "\n",
    "input_text = input_text.translate(str.maketrans(\"\", \"\", string.punctuation))\n",
    "words = input_text.split()\n",
    "word_count = {}\n",
    "\n",
    "for word in words:\n",
    "    if word in word_count:\n",
    "        word_count[word] += 1  \n",
    "    else:\n",
    "        word_count[word] = 1 \n",
    "\n",
    "for word, count in word_count.items():\n",
    "    print(f\"'{word}': {count}\")"
   ]
  },
  {
   "cell_type": "code",
   "execution_count": null,
   "id": "a427a608-1259-4eee-b38f-bca40be19111",
   "metadata": {},
   "outputs": [],
   "source": [
    "#Exercise 5: Check for Palindrome\n",
    "\n",
    "#Write a Python function called is_palindrome that takes a string as input and returns True if the string is a palindrome,and False otherwise. \n",
    "#A palindrome is a word, phrase, number, or other sequence of characters that reads the same forward and backward, ignoring spaces, \n",
    "#punctuation, and capitalization."
   ]
  },
  {
   "cell_type": "code",
   "execution_count": 11,
   "id": "5ba49e0e-c64e-4141-bf23-292ad89efe58",
   "metadata": {},
   "outputs": [
    {
     "name": "stdin",
     "output_type": "stream",
     "text": [
      " Enter your Word or Number   30\n"
     ]
    },
    {
     "name": "stdout",
     "output_type": "stream",
     "text": [
      "Not a palindrome \n"
     ]
    }
   ],
   "source": [
    "x = input(\" Enter your Word or Number  \");\n",
    "y=x[-1::-1]\n",
    "if(x==y):\n",
    "    print(\"Is a palindrome \");\n",
    "else:\n",
    "    print(\"Not a palindrome \");"
   ]
  },
  {
   "cell_type": "code",
   "execution_count": null,
   "id": "651a4b5e-ecca-48fe-ab90-c937c98f454a",
   "metadata": {},
   "outputs": [],
   "source": []
  }
 ],
 "metadata": {
  "kernelspec": {
   "display_name": "Python 3 (ipykernel)",
   "language": "python",
   "name": "python3"
  },
  "language_info": {
   "codemirror_mode": {
    "name": "ipython",
    "version": 3
   },
   "file_extension": ".py",
   "mimetype": "text/x-python",
   "name": "python",
   "nbconvert_exporter": "python",
   "pygments_lexer": "ipython3",
   "version": "3.13.5"
  }
 },
 "nbformat": 4,
 "nbformat_minor": 5
}
